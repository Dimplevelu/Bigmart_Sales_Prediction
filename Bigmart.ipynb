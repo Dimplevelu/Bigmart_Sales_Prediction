{
  "nbformat": 4,
  "nbformat_minor": 0,
  "metadata": {
    "colab": {
      "name": "Bigmart.ipynb",
      "private_outputs": true,
      "provenance": []
    },
    "kernelspec": {
      "name": "python3",
      "display_name": "Python 3"
    }
  },
  "cells": [
    {
      "cell_type": "markdown",
      "metadata": {
        "id": "3cak3XVpQEU-"
      },
      "source": [
        "#Bigmart Sales Prediction Analysis"
      ]
    },
    {
      "cell_type": "markdown",
      "metadata": {
        "id": "o4axwliSQelq"
      },
      "source": [
        "#Dataset Information\r\n",
        "The data scientists at BigMart have collected 2013 sales data for 1559 products across 10 stores in different cities. Also, certain attributes of each product and store have been defined. The aim is to build a predictive model and find out the sales of each product at a particular store.\r\n",
        "\r\n",
        "Using this model, BigMart will try to understand the properties of products and stores which play a key role in increasing sales.\r\n",
        "\r\n",
        "##Libraries\r\n",
        "pandas\r\n",
        "matplotlib\r\n",
        "seaborn\r\n",
        "scikit-learn\r\n",
        "##Algorithms\r\n",
        "Linear Regression,\r\n",
        "Ridge,\r\n",
        "Lasso,\r\n",
        "Decision Tree,\r\n",
        "Random Forest,\r\n",
        "Extra Tress,\r\n",
        "Mean Squared Error: 0.28\r\n",
        "\r\n",
        "Note: The Error metric is in log values. To convert to original values, use exponentiation."
      ]
    },
    {
      "cell_type": "markdown",
      "metadata": {
        "id": "u0EKWSQtRUTF"
      },
      "source": [
        "Import modules"
      ]
    },
    {
      "cell_type": "code",
      "metadata": {
        "id": "dEi0S7L7RTiA"
      },
      "source": [
        "import pandas as pd\r\n",
        "import numpy as np\r\n",
        "import seaborn as sns\r\n",
        "import matplotlib.pyplot as plt\r\n",
        "import warnings\r\n",
        "%matplotlib inline\r\n",
        "warnings.filterwarnings('ignore')"
      ],
      "execution_count": null,
      "outputs": []
    },
    {
      "cell_type": "markdown",
      "metadata": {
        "id": "hGoiuNPSRbJ1"
      },
      "source": [
        "Loading the dataset"
      ]
    },
    {
      "cell_type": "code",
      "metadata": {
        "id": "ml9Cpo5IAscz"
      },
      "source": [
        "from google.colab import files\r\n",
        "uploaded=files.upload()"
      ],
      "execution_count": null,
      "outputs": []
    },
    {
      "cell_type": "code",
      "metadata": {
        "id": "aCEjQGrzQDe-"
      },
      "source": [
        "import io\r\n",
        "df = pd.read_csv(io.BytesIO(uploaded['Train (1).csv']))\r\n",
        "df.head()"
      ],
      "execution_count": null,
      "outputs": []
    },
    {
      "cell_type": "code",
      "metadata": {
        "id": "acFAPyjiQPbW"
      },
      "source": [
        "# statistical info\r\n",
        "df.describe()"
      ],
      "execution_count": null,
      "outputs": []
    },
    {
      "cell_type": "code",
      "metadata": {
        "id": "t-GTnAmmQPfT"
      },
      "source": [
        "# datatype of attributes\r\n",
        "df.info()"
      ],
      "execution_count": null,
      "outputs": []
    },
    {
      "cell_type": "code",
      "metadata": {
        "id": "eojrVAMGQPja"
      },
      "source": [
        "# check unique values in dataset\r\n",
        "df.apply(lambda x: len(x.unique()))"
      ],
      "execution_count": null,
      "outputs": []
    },
    {
      "cell_type": "markdown",
      "metadata": {
        "id": "uxZ2WcmTRutz"
      },
      "source": [
        "Preprocessing the dataset"
      ]
    },
    {
      "cell_type": "code",
      "metadata": {
        "id": "s0exIikGQPqr"
      },
      "source": [
        "# check for null values\r\n",
        "df.isnull().sum()"
      ],
      "execution_count": null,
      "outputs": []
    },
    {
      "cell_type": "code",
      "metadata": {
        "id": "QEDXPEIbQPxf"
      },
      "source": [
        "# check for categorical attributes\r\n",
        "cat_col = []\r\n",
        "for x in df.dtypes.index:\r\n",
        "    if df.dtypes[x] == 'object':\r\n",
        "        cat_col.append(x)\r\n",
        "cat_col"
      ],
      "execution_count": null,
      "outputs": []
    },
    {
      "cell_type": "code",
      "metadata": {
        "id": "w-fxHXwdQP1m"
      },
      "source": [
        "cat_col.remove('Item_Identifier')\r\n",
        "cat_col.remove('Outlet_Identifier')\r\n",
        "cat_col"
      ],
      "execution_count": null,
      "outputs": []
    },
    {
      "cell_type": "code",
      "metadata": {
        "id": "BsRoxRwGQP53"
      },
      "source": [
        "# print the categorical columns\r\n",
        "for col in cat_col:\r\n",
        "    print(col)\r\n",
        "    print(df[col].value_counts())\r\n",
        "    print()"
      ],
      "execution_count": null,
      "outputs": []
    },
    {
      "cell_type": "code",
      "metadata": {
        "id": "6ZUKKJJ6QP-N"
      },
      "source": [
        "# fill the missing values\r\n",
        "item_weight_mean = df.pivot_table(values = \"Item_Weight\", index = 'Item_Identifier')\r\n",
        "item_weight_mean"
      ],
      "execution_count": null,
      "outputs": []
    },
    {
      "cell_type": "code",
      "metadata": {
        "id": "S9mM8ORLQQEK"
      },
      "source": [
        "miss_bool = df['Item_Weight'].isnull()\r\n",
        "miss_bool"
      ],
      "execution_count": null,
      "outputs": []
    },
    {
      "cell_type": "code",
      "metadata": {
        "id": "OkXPIC9FQQMh"
      },
      "source": [
        "for i, item in enumerate(df['Item_Identifier']):\r\n",
        "    if miss_bool[i]:\r\n",
        "        if item in item_weight_mean:\r\n",
        "            df['Item_Weight'][i] = item_weight_mean.loc[item]['Item_Weight']\r\n",
        "        else:\r\n",
        "            df['Item_Weight'][i] = np.mean(df['Item_Weight'])"
      ],
      "execution_count": null,
      "outputs": []
    },
    {
      "cell_type": "code",
      "metadata": {
        "id": "eID0vWOxPKos"
      },
      "source": [
        "df['Item_Weight'].isnull().sum()"
      ],
      "execution_count": null,
      "outputs": []
    },
    {
      "cell_type": "code",
      "metadata": {
        "id": "T11a3EmiSbFR"
      },
      "source": [
        "outlet_size_mode = df.pivot_table(values='Outlet_Size', columns='Outlet_Type', aggfunc=(lambda x: x.mode()[0]))\r\n",
        "outlet_size_mode"
      ],
      "execution_count": null,
      "outputs": []
    },
    {
      "cell_type": "code",
      "metadata": {
        "id": "1WoyPXtzSbKw"
      },
      "source": [
        "miss_bool = df['Outlet_Size'].isnull()\r\n",
        "df.loc[miss_bool, 'Outlet_Size'] = df.loc[miss_bool, 'Outlet_Type'].apply(lambda x: outlet_size_mode[x])"
      ],
      "execution_count": null,
      "outputs": []
    },
    {
      "cell_type": "code",
      "metadata": {
        "id": "eD5vU8VeSbSC"
      },
      "source": [
        "df['Outlet_Size'].isnull().sum()"
      ],
      "execution_count": null,
      "outputs": []
    },
    {
      "cell_type": "code",
      "metadata": {
        "id": "_Mkec0ZuSbXa"
      },
      "source": [
        "sum(df['Item_Visibility']==0)"
      ],
      "execution_count": null,
      "outputs": []
    },
    {
      "cell_type": "code",
      "metadata": {
        "id": "KSu33h42S8-7"
      },
      "source": [
        "# replace zeros with mean\r\n",
        "df.loc[:, 'Item_Visibility'].replace([0], [df['Item_Visibility'].mean()], inplace=True)"
      ],
      "execution_count": null,
      "outputs": []
    },
    {
      "cell_type": "code",
      "metadata": {
        "id": "pUXSgL0NS9ES"
      },
      "source": [
        "sum(df['Item_Visibility']==0)"
      ],
      "execution_count": null,
      "outputs": []
    },
    {
      "cell_type": "code",
      "metadata": {
        "id": "P_oQIbP4S9H7"
      },
      "source": [
        "# combine item fat content\r\n",
        "df['Item_Fat_Content'] = df['Item_Fat_Content'].replace({'LF':'Low Fat', 'reg':'Regular', 'low fat':'Low Fat'})\r\n",
        "df['Item_Fat_Content'].value_counts()"
      ],
      "execution_count": null,
      "outputs": []
    },
    {
      "cell_type": "markdown",
      "metadata": {
        "id": "915MXlxoTMZl"
      },
      "source": [
        "Creation of New Attributes"
      ]
    },
    {
      "cell_type": "code",
      "metadata": {
        "id": "2oXGtk26S9MO"
      },
      "source": [
        "df['New_Item_Type'] = df['Item_Identifier'].apply(lambda x: x[:2])\r\n",
        "df['New_Item_Type']"
      ],
      "execution_count": null,
      "outputs": []
    },
    {
      "cell_type": "code",
      "metadata": {
        "id": "GBGA5nAbS9RJ"
      },
      "source": [
        "df['New_Item_Type'] = df['New_Item_Type'].map({'FD':'Food', 'NC':'Non-Consumable', 'DR':'Drinks'})\r\n",
        "df['New_Item_Type'].value_counts()"
      ],
      "execution_count": null,
      "outputs": []
    },
    {
      "cell_type": "code",
      "metadata": {
        "id": "LIEFltHETcRr"
      },
      "source": [
        "df.loc[df['New_Item_Type']=='Non-Consumable', 'Item_Fat_Content'] = 'Non-Edible'\r\n",
        "df['Item_Fat_Content'].value_counts()"
      ],
      "execution_count": null,
      "outputs": []
    },
    {
      "cell_type": "code",
      "metadata": {
        "id": "VdUQ1lEYTcWc"
      },
      "source": [
        "# create small values for establishment year\r\n",
        "df['Outlet_Years'] = 2013 - df['Outlet_Establishment_Year']"
      ],
      "execution_count": null,
      "outputs": []
    },
    {
      "cell_type": "code",
      "metadata": {
        "id": "Wkm_7LiXTcbB"
      },
      "source": [
        "df['Outlet_Years']"
      ],
      "execution_count": null,
      "outputs": []
    },
    {
      "cell_type": "code",
      "metadata": {
        "id": "p5NpE3EyTch1"
      },
      "source": [
        "df.head()"
      ],
      "execution_count": null,
      "outputs": []
    },
    {
      "cell_type": "markdown",
      "metadata": {
        "id": "sX1WotC9TrK8"
      },
      "source": [
        "Exploratory Data Analysis"
      ]
    },
    {
      "cell_type": "code",
      "metadata": {
        "id": "Z6ORAgs6TcmX"
      },
      "source": [
        "sns.distplot(df['Item_Weight'])"
      ],
      "execution_count": null,
      "outputs": []
    },
    {
      "cell_type": "code",
      "metadata": {
        "id": "zUNMZLOyS9Xw"
      },
      "source": [
        "sns.distplot(df['Item_Visibility'])"
      ],
      "execution_count": null,
      "outputs": []
    },
    {
      "cell_type": "code",
      "metadata": {
        "id": "rLyUGFFdS9c6"
      },
      "source": [
        "sns.distplot(df['Item_MRP'])"
      ],
      "execution_count": null,
      "outputs": []
    },
    {
      "cell_type": "code",
      "metadata": {
        "id": "kjRTNyERS9ip"
      },
      "source": [
        "sns.distplot(df['Item_Outlet_Sales'])"
      ],
      "execution_count": null,
      "outputs": []
    },
    {
      "cell_type": "code",
      "metadata": {
        "id": "8BLIlNUbT4dk"
      },
      "source": [
        "# log transformation\r\n",
        "df['Item_Outlet_Sales'] = np.log(1+df['Item_Outlet_Sales'])"
      ],
      "execution_count": null,
      "outputs": []
    },
    {
      "cell_type": "code",
      "metadata": {
        "id": "mB6F5xSRT4kN"
      },
      "source": [
        "sns.distplot(df['Item_Outlet_Sales'])"
      ],
      "execution_count": null,
      "outputs": []
    },
    {
      "cell_type": "code",
      "metadata": {
        "id": "BXGVdPSmT4qC"
      },
      "source": [
        "sns.countplot(df[\"Item_Fat_Content\"])"
      ],
      "execution_count": null,
      "outputs": []
    },
    {
      "cell_type": "code",
      "metadata": {
        "id": "s3m3nYTLT4vV"
      },
      "source": [
        "# plt.figure(figsize=(15,5))\r\n",
        "l = list(df['Item_Type'].unique())\r\n",
        "chart = sns.countplot(df[\"Item_Type\"])\r\n",
        "chart.set_xticklabels(labels=l, rotation=90)"
      ],
      "execution_count": null,
      "outputs": []
    },
    {
      "cell_type": "code",
      "metadata": {
        "id": "hKrEtZHcT402"
      },
      "source": [
        "sns.countplot(df['Outlet_Establishment_Year'])"
      ],
      "execution_count": null,
      "outputs": []
    },
    {
      "cell_type": "code",
      "metadata": {
        "id": "fssm-78nT46V"
      },
      "source": [
        "sns.countplot(df['Outlet_Size'])"
      ],
      "execution_count": null,
      "outputs": []
    },
    {
      "cell_type": "code",
      "metadata": {
        "id": "imCQenPGSbcV"
      },
      "source": [
        "sns.countplot(df['Outlet_Location_Type'])"
      ],
      "execution_count": null,
      "outputs": []
    },
    {
      "cell_type": "code",
      "metadata": {
        "id": "GSTlvciTUSL6"
      },
      "source": [
        "sns.countplot(df['Outlet_Type'])"
      ],
      "execution_count": null,
      "outputs": []
    },
    {
      "cell_type": "markdown",
      "metadata": {
        "id": "By76agG2UYuZ"
      },
      "source": [
        "Coorelation Matrix"
      ]
    },
    {
      "cell_type": "code",
      "metadata": {
        "id": "6_bIgBTVUSQM"
      },
      "source": [
        "corr = df.corr()\r\n",
        "sns.heatmap(corr, annot=True, cmap='coolwarm')"
      ],
      "execution_count": null,
      "outputs": []
    },
    {
      "cell_type": "code",
      "metadata": {
        "id": "zGm7BKSnUSUG"
      },
      "source": [
        "df.head()"
      ],
      "execution_count": null,
      "outputs": []
    },
    {
      "cell_type": "markdown",
      "metadata": {
        "id": "-KxB_WUvUhfz"
      },
      "source": [
        "Label Encoding"
      ]
    },
    {
      "cell_type": "code",
      "metadata": {
        "id": "nwqIHYfJUkcd"
      },
      "source": [
        "from sklearn.preprocessing import LabelEncoder\r\n",
        "le = LabelEncoder()\r\n",
        "df['Outlet'] = le.fit_transform(df['Outlet_Identifier'])\r\n",
        "cat_col = ['Item_Fat_Content', 'Item_Type', 'Outlet_Size', 'Outlet_Location_Type', 'Outlet_Type', 'New_Item_Type']\r\n",
        "for col in cat_col:\r\n",
        "    df[col] = le.fit_transform(df[col])"
      ],
      "execution_count": null,
      "outputs": []
    },
    {
      "cell_type": "markdown",
      "metadata": {
        "id": "Kptp89DcUprt"
      },
      "source": [
        "Onehot Encoding"
      ]
    },
    {
      "cell_type": "code",
      "metadata": {
        "id": "M8mqoNfLUpLK"
      },
      "source": [
        "df = pd.get_dummies(df, columns=['Item_Fat_Content', 'Outlet_Size', 'Outlet_Location_Type', 'Outlet_Type', 'New_Item_Type'])\r\n",
        "df.head()"
      ],
      "execution_count": null,
      "outputs": []
    },
    {
      "cell_type": "markdown",
      "metadata": {
        "id": "Zu8oThLLUznI"
      },
      "source": [
        "Input Split"
      ]
    },
    {
      "cell_type": "code",
      "metadata": {
        "id": "ywR_8J1VUkXy"
      },
      "source": [
        "X = df.drop(columns=['Outlet_Establishment_Year', 'Item_Identifier', 'Outlet_Identifier', 'Item_Outlet_Sales'])\r\n",
        "y = df['Item_Outlet_Sales']"
      ],
      "execution_count": null,
      "outputs": []
    },
    {
      "cell_type": "markdown",
      "metadata": {
        "id": "73CKRyWRU8wI"
      },
      "source": [
        "Model Training"
      ]
    },
    {
      "cell_type": "code",
      "metadata": {
        "id": "dD-0cLqMUkSM"
      },
      "source": [
        "from sklearn.model_selection import cross_val_score\r\n",
        "from sklearn.metrics import mean_squared_error\r\n",
        "def train(model, X, y):\r\n",
        "    # train the model\r\n",
        "    model.fit(X, y)\r\n",
        "    \r\n",
        "    # predict the training set\r\n",
        "    pred = model.predict(X)\r\n",
        "    \r\n",
        "    # perform cross-validation\r\n",
        "    cv_score = cross_val_score(model, X, y, scoring='neg_mean_squared_error', cv=5)\r\n",
        "    cv_score = np.abs(np.mean(cv_score))\r\n",
        "    \r\n",
        "    print(\"Model Report\")\r\n",
        "    print(\"MSE:\",mean_squared_error(y,pred))\r\n",
        "    print(\"CV Score:\", cv_score)"
      ],
      "execution_count": null,
      "outputs": []
    },
    {
      "cell_type": "code",
      "metadata": {
        "id": "CTfw6K12UkLw"
      },
      "source": [
        "from sklearn.linear_model import LinearRegression, Ridge, Lasso\r\n",
        "model = LinearRegression(normalize=True)\r\n",
        "train(model, X, y)\r\n",
        "coef = pd.Series(model.coef_, X.columns).sort_values()\r\n",
        "coef.plot(kind='bar', title=\"Model Coefficients\")"
      ],
      "execution_count": null,
      "outputs": []
    },
    {
      "cell_type": "code",
      "metadata": {
        "id": "2mgI5dJLUkGL"
      },
      "source": [
        "model = Ridge(normalize=True)\r\n",
        "train(model, X, y)\r\n",
        "coef = pd.Series(model.coef_, X.columns).sort_values()\r\n",
        "coef.plot(kind='bar', title=\"Model Coefficients\")"
      ],
      "execution_count": null,
      "outputs": []
    },
    {
      "cell_type": "code",
      "metadata": {
        "id": "acTs18BqUj7O"
      },
      "source": [
        "model = Lasso()\r\n",
        "train(model, X, y)\r\n",
        "coef = pd.Series(model.coef_, X.columns).sort_values()\r\n",
        "coef.plot(kind='bar', title=\"Model Coefficients\")"
      ],
      "execution_count": null,
      "outputs": []
    },
    {
      "cell_type": "code",
      "metadata": {
        "id": "70_OOXSkUSXe"
      },
      "source": [
        "from sklearn.tree import DecisionTreeRegressor\r\n",
        "model = DecisionTreeRegressor()\r\n",
        "train(model, X, y)\r\n",
        "coef = pd.Series(model.feature_importances_, X.columns).sort_values(ascending=False)\r\n",
        "coef.plot(kind='bar', title=\"Feature Importance\")"
      ],
      "execution_count": null,
      "outputs": []
    },
    {
      "cell_type": "code",
      "metadata": {
        "id": "CtiZGi9SUSeY"
      },
      "source": [
        "from sklearn.ensemble import RandomForestRegressor\r\n",
        "model = RandomForestRegressor()\r\n",
        "train(model, X, y)\r\n",
        "coef = pd.Series(model.feature_importances_, X.columns).sort_values(ascending=False)\r\n",
        "coef.plot(kind='bar', title=\"Feature Importance\")"
      ],
      "execution_count": null,
      "outputs": []
    },
    {
      "cell_type": "code",
      "metadata": {
        "id": "v125oBTeUSjW"
      },
      "source": [
        "from sklearn.ensemble import ExtraTreesRegressor\r\n",
        "model = ExtraTreesRegressor()\r\n",
        "train(model, X, y)\r\n",
        "coef = pd.Series(model.feature_importances_, X.columns).sort_values(ascending=False)\r\n",
        "coef.plot(kind='bar', title=\"Feature Importance\")"
      ],
      "execution_count": null,
      "outputs": []
    },
    {
      "cell_type": "code",
      "metadata": {
        "id": "JYR3yIS4EU6b"
      },
      "source": [
        ""
      ],
      "execution_count": null,
      "outputs": []
    }
  ]
}